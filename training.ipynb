{
  "cells": [
    {
      "cell_type": "code",
      "execution_count": 12,
      "metadata": {
        "id": "igMyGnjE9hEp"
      },
      "outputs": [],
      "source": [
        "import csv\n",
        "\n",
        "import numpy as np\n",
        "import tensorflow as tf\n",
        "from sklearn.model_selection import train_test_split\n",
        "\n",
        "RANDOM_SEED = 42"
      ]
    },
    {
      "cell_type": "markdown",
      "metadata": {
        "id": "t2HDvhIu9hEr"
      },
      "source": [
        "# Specify each path"
      ]
    },
    {
      "cell_type": "code",
      "execution_count": 13,
      "metadata": {
        "id": "9NvZP2Zn9hEy"
      },
      "outputs": [],
      "source": [
        "dataset = 'model/keypoint_classifier/keypoint.csv'\n",
        "model_save_path = 'model/keypoint_classifier/keypoint_classifier.hdf5'\n",
        "tflite_save_path = 'model/keypoint_classifier/keypoint_classifier.tflite'"
      ]
    },
    {
      "cell_type": "markdown",
      "metadata": {
        "id": "s5oMH7x19hEz"
      },
      "source": [
        "# Set number of classes"
      ]
    },
    {
      "cell_type": "code",
      "execution_count": 14,
      "metadata": {
        "id": "du4kodXL9hEz"
      },
      "outputs": [],
      "source": [
        "NUM_CLASSES = 7"
      ]
    },
    {
      "cell_type": "markdown",
      "metadata": {
        "id": "XjnL0uso9hEz"
      },
      "source": [
        "# Dataset reading"
      ]
    },
    {
      "cell_type": "code",
      "execution_count": 15,
      "metadata": {
        "id": "QT5ZqtEz9hE0"
      },
      "outputs": [],
      "source": [
        "X_dataset = np.loadtxt(dataset, delimiter=',', dtype='float32', usecols=list(range(1, (21 * 2) + 1)))"
      ]
    },
    {
      "cell_type": "code",
      "execution_count": 16,
      "metadata": {
        "id": "QmoKFsp49hE0"
      },
      "outputs": [],
      "source": [
        "y_dataset = np.loadtxt(dataset, delimiter=',', dtype='int32', usecols=(0))"
      ]
    },
    {
      "cell_type": "code",
      "execution_count": 17,
      "metadata": {
        "id": "xQU7JTZ_9hE0"
      },
      "outputs": [],
      "source": [
        "X_train, X_test, y_train, y_test = train_test_split(X_dataset, y_dataset, train_size=0.75, random_state=RANDOM_SEED)"
      ]
    },
    {
      "cell_type": "markdown",
      "metadata": {
        "id": "mxK_lETT9hE0"
      },
      "source": [
        "# Model building"
      ]
    },
    {
      "cell_type": "code",
      "execution_count": 18,
      "metadata": {
        "id": "vHBmUf1t9hE1"
      },
      "outputs": [],
      "source": [
        "model = tf.keras.models.Sequential([\n",
        "    tf.keras.layers.Input((21 * 2, )),\n",
        "    tf.keras.layers.Dropout(0.2),\n",
        "    tf.keras.layers.Dense(20, activation='relu'),\n",
        "    tf.keras.layers.Dropout(0.4),\n",
        "    tf.keras.layers.Dense(10, activation='relu'),\n",
        "    tf.keras.layers.Dense(NUM_CLASSES, activation='softmax')\n",
        "])"
      ]
    },
    {
      "cell_type": "code",
      "execution_count": 19,
      "metadata": {
        "colab": {
          "base_uri": "https://localhost:8080/"
        },
        "id": "ypqky9tc9hE1",
        "outputId": "5db082bb-30e3-4110-bf63-a1ee777ecd46"
      },
      "outputs": [
        {
          "name": "stdout",
          "output_type": "stream",
          "text": [
            "Model: \"sequential_1\"\n",
            "_________________________________________________________________\n",
            " Layer (type)                Output Shape              Param #   \n",
            "=================================================================\n",
            " dropout_2 (Dropout)         (None, 42)                0         \n",
            "                                                                 \n",
            " dense_3 (Dense)             (None, 20)                860       \n",
            "                                                                 \n",
            " dropout_3 (Dropout)         (None, 20)                0         \n",
            "                                                                 \n",
            " dense_4 (Dense)             (None, 10)                210       \n",
            "                                                                 \n",
            " dense_5 (Dense)             (None, 7)                 77        \n",
            "                                                                 \n",
            "=================================================================\n",
            "Total params: 1147 (4.48 KB)\n",
            "Trainable params: 1147 (4.48 KB)\n",
            "Non-trainable params: 0 (0.00 Byte)\n",
            "_________________________________________________________________\n"
          ]
        }
      ],
      "source": [
        "model.summary()  # tf.keras.utils.plot_model(model, show_shapes=True)"
      ]
    },
    {
      "cell_type": "code",
      "execution_count": 20,
      "metadata": {
        "id": "MbMjOflQ9hE1"
      },
      "outputs": [],
      "source": [
        "# Model checkpoint callback\n",
        "cp_callback = tf.keras.callbacks.ModelCheckpoint(\n",
        "    model_save_path, verbose=1, save_weights_only=False)\n",
        "# Callback for early stopping\n",
        "es_callback = tf.keras.callbacks.EarlyStopping(patience=20, verbose=1)"
      ]
    },
    {
      "cell_type": "code",
      "execution_count": 21,
      "metadata": {
        "id": "c3Dac0M_9hE2"
      },
      "outputs": [],
      "source": [
        "# Model compilation\n",
        "model.compile(\n",
        "    optimizer='adam',\n",
        "    loss='sparse_categorical_crossentropy',\n",
        "    metrics=['accuracy']\n",
        ")"
      ]
    },
    {
      "cell_type": "markdown",
      "metadata": {
        "id": "7XI0j1Iu9hE2"
      },
      "source": [
        "# Model training"
      ]
    },
    {
      "cell_type": "code",
      "execution_count": 22,
      "metadata": {
        "colab": {
          "base_uri": "https://localhost:8080/"
        },
        "id": "WirBl-JE9hE3",
        "outputId": "71b30ca2-8294-4d9d-8aa2-800d90d399de",
        "scrolled": true
      },
      "outputs": [
        {
          "name": "stdout",
          "output_type": "stream",
          "text": [
            "Epoch 1/1000\n"
          ]
        },
        {
          "name": "stdout",
          "output_type": "stream",
          "text": [
            "51/60 [========================>.....] - ETA: 0s - loss: 2.0194 - accuracy: 0.1512\n",
            "Epoch 1: saving model to model/keypoint_classifier\\keypoint_classifier.hdf5\n",
            "60/60 [==============================] - 1s 9ms/step - loss: 2.0044 - accuracy: 0.1600 - val_loss: 1.8530 - val_accuracy: 0.2657\n",
            "Epoch 2/1000\n",
            "47/60 [======================>.......] - ETA: 0s - loss: 1.8457 - accuracy: 0.2412\n",
            "Epoch 2: saving model to model/keypoint_classifier\\keypoint_classifier.hdf5\n"
          ]
        },
        {
          "name": "stderr",
          "output_type": "stream",
          "text": [
            "c:\\Users\\97798\\Desktop\\FYP\\Main\\code\\.venv\\lib\\site-packages\\keras\\src\\engine\\training.py:3079: UserWarning: You are saving your model as an HDF5 file via `model.save()`. This file format is considered legacy. We recommend using instead the native Keras format, e.g. `model.save('my_model.keras')`.\n",
            "  saving_api.save_model(\n"
          ]
        },
        {
          "name": "stdout",
          "output_type": "stream",
          "text": [
            "60/60 [==============================] - 0s 3ms/step - loss: 1.8349 - accuracy: 0.2516 - val_loss: 1.7387 - val_accuracy: 0.3622\n",
            "Epoch 3/1000\n",
            "47/60 [======================>.......] - ETA: 0s - loss: 1.7383 - accuracy: 0.2960\n",
            "Epoch 3: saving model to model/keypoint_classifier\\keypoint_classifier.hdf5\n",
            "60/60 [==============================] - 0s 3ms/step - loss: 1.7274 - accuracy: 0.3014 - val_loss: 1.6109 - val_accuracy: 0.4698\n",
            "Epoch 4/1000\n",
            "31/60 [==============>...............] - ETA: 0s - loss: 1.6334 - accuracy: 0.3405\n",
            "Epoch 4: saving model to model/keypoint_classifier\\keypoint_classifier.hdf5\n",
            "60/60 [==============================] - 0s 3ms/step - loss: 1.6166 - accuracy: 0.3434 - val_loss: 1.4641 - val_accuracy: 0.6271\n",
            "Epoch 5/1000\n",
            "30/60 [==============>...............] - ETA: 0s - loss: 1.5364 - accuracy: 0.3846\n",
            "Epoch 5: saving model to model/keypoint_classifier\\keypoint_classifier.hdf5\n",
            "60/60 [==============================] - 0s 3ms/step - loss: 1.5033 - accuracy: 0.4086 - val_loss: 1.2810 - val_accuracy: 0.6805\n",
            "Epoch 6/1000\n",
            "53/60 [=========================>....] - ETA: 0s - loss: 1.3863 - accuracy: 0.4692\n",
            "Epoch 6: saving model to model/keypoint_classifier\\keypoint_classifier.hdf5\n",
            "60/60 [==============================] - 0s 3ms/step - loss: 1.3803 - accuracy: 0.4701 - val_loss: 1.1144 - val_accuracy: 0.7371\n",
            "Epoch 7/1000\n",
            "60/60 [==============================] - ETA: 0s - loss: 1.2730 - accuracy: 0.5059\n",
            "Epoch 7: saving model to model/keypoint_classifier\\keypoint_classifier.hdf5\n",
            "60/60 [==============================] - 0s 3ms/step - loss: 1.2730 - accuracy: 0.5059 - val_loss: 0.9697 - val_accuracy: 0.7833\n",
            "Epoch 8/1000\n",
            "32/60 [===============>..............] - ETA: 0s - loss: 1.1853 - accuracy: 0.5461\n",
            "Epoch 8: saving model to model/keypoint_classifier\\keypoint_classifier.hdf5\n",
            "60/60 [==============================] - 0s 3ms/step - loss: 1.1710 - accuracy: 0.5457 - val_loss: 0.8676 - val_accuracy: 0.8059\n",
            "Epoch 9/1000\n",
            "60/60 [==============================] - ETA: 0s - loss: 1.1062 - accuracy: 0.5714\n",
            "Epoch 9: saving model to model/keypoint_classifier\\keypoint_classifier.hdf5\n",
            "60/60 [==============================] - 0s 4ms/step - loss: 1.1062 - accuracy: 0.5714 - val_loss: 0.7822 - val_accuracy: 0.8157\n",
            "Epoch 10/1000\n",
            "56/60 [===========================>..] - ETA: 0s - loss: 1.0396 - accuracy: 0.5950\n",
            "Epoch 10: saving model to model/keypoint_classifier\\keypoint_classifier.hdf5\n",
            "60/60 [==============================] - 0s 4ms/step - loss: 1.0389 - accuracy: 0.5946 - val_loss: 0.7031 - val_accuracy: 0.8244\n",
            "Epoch 11/1000\n",
            "50/60 [========================>.....] - ETA: 0s - loss: 0.9940 - accuracy: 0.6173\n",
            "Epoch 11: saving model to model/keypoint_classifier\\keypoint_classifier.hdf5\n",
            "60/60 [==============================] - 0s 3ms/step - loss: 0.9860 - accuracy: 0.6204 - val_loss: 0.6349 - val_accuracy: 0.8406\n",
            "Epoch 12/1000\n",
            "55/60 [==========================>...] - ETA: 0s - loss: 0.9410 - accuracy: 0.6388\n",
            "Epoch 12: saving model to model/keypoint_classifier\\keypoint_classifier.hdf5\n",
            "60/60 [==============================] - 0s 3ms/step - loss: 0.9386 - accuracy: 0.6393 - val_loss: 0.5754 - val_accuracy: 0.8331\n",
            "Epoch 13/1000\n",
            "52/60 [=========================>....] - ETA: 0s - loss: 0.9080 - accuracy: 0.6511\n",
            "Epoch 13: saving model to model/keypoint_classifier\\keypoint_classifier.hdf5\n",
            "60/60 [==============================] - 0s 3ms/step - loss: 0.9114 - accuracy: 0.6512 - val_loss: 0.5402 - val_accuracy: 0.8644\n",
            "Epoch 14/1000\n",
            "50/60 [========================>.....] - ETA: 0s - loss: 0.8660 - accuracy: 0.6677\n",
            "Epoch 14: saving model to model/keypoint_classifier\\keypoint_classifier.hdf5\n",
            "60/60 [==============================] - 0s 3ms/step - loss: 0.8656 - accuracy: 0.6668 - val_loss: 0.5005 - val_accuracy: 0.8379\n",
            "Epoch 15/1000\n",
            "43/60 [====================>.........] - ETA: 0s - loss: 0.8411 - accuracy: 0.6757\n",
            "Epoch 15: saving model to model/keypoint_classifier\\keypoint_classifier.hdf5\n",
            "60/60 [==============================] - 0s 3ms/step - loss: 0.8380 - accuracy: 0.6773 - val_loss: 0.4620 - val_accuracy: 0.8766\n",
            "Epoch 16/1000\n",
            "53/60 [=========================>....] - ETA: 0s - loss: 0.8214 - accuracy: 0.6798\n",
            "Epoch 16: saving model to model/keypoint_classifier\\keypoint_classifier.hdf5\n",
            "60/60 [==============================] - 0s 3ms/step - loss: 0.8200 - accuracy: 0.6822 - val_loss: 0.4387 - val_accuracy: 0.8758\n",
            "Epoch 17/1000\n",
            "54/60 [==========================>...] - ETA: 0s - loss: 0.7987 - accuracy: 0.6953\n",
            "Epoch 17: saving model to model/keypoint_classifier\\keypoint_classifier.hdf5\n",
            "60/60 [==============================] - 0s 3ms/step - loss: 0.7977 - accuracy: 0.6962 - val_loss: 0.4080 - val_accuracy: 0.8952\n",
            "Epoch 18/1000\n",
            "48/60 [=======================>......] - ETA: 0s - loss: 0.7826 - accuracy: 0.7023\n",
            "Epoch 18: saving model to model/keypoint_classifier\\keypoint_classifier.hdf5\n",
            "60/60 [==============================] - 0s 3ms/step - loss: 0.7818 - accuracy: 0.7016 - val_loss: 0.4010 - val_accuracy: 0.8964\n",
            "Epoch 19/1000\n",
            "58/60 [============================>.] - ETA: 0s - loss: 0.7633 - accuracy: 0.7078\n",
            "Epoch 19: saving model to model/keypoint_classifier\\keypoint_classifier.hdf5\n",
            "60/60 [==============================] - 0s 3ms/step - loss: 0.7624 - accuracy: 0.7078 - val_loss: 0.3804 - val_accuracy: 0.8996\n",
            "Epoch 20/1000\n",
            "32/60 [===============>..............] - ETA: 0s - loss: 0.7591 - accuracy: 0.7144\n",
            "Epoch 20: saving model to model/keypoint_classifier\\keypoint_classifier.hdf5\n",
            "60/60 [==============================] - 0s 3ms/step - loss: 0.7497 - accuracy: 0.7190 - val_loss: 0.3646 - val_accuracy: 0.9063\n",
            "Epoch 21/1000\n",
            "32/60 [===============>..............] - ETA: 0s - loss: 0.7215 - accuracy: 0.7322\n",
            "Epoch 21: saving model to model/keypoint_classifier\\keypoint_classifier.hdf5\n",
            "60/60 [==============================] - 0s 3ms/step - loss: 0.7104 - accuracy: 0.7369 - val_loss: 0.3540 - val_accuracy: 0.9015\n",
            "Epoch 22/1000\n",
            "32/60 [===============>..............] - ETA: 0s - loss: 0.7365 - accuracy: 0.7170\n",
            "Epoch 22: saving model to model/keypoint_classifier\\keypoint_classifier.hdf5\n",
            "60/60 [==============================] - 0s 3ms/step - loss: 0.7296 - accuracy: 0.7208 - val_loss: 0.3407 - val_accuracy: 0.9130\n",
            "Epoch 23/1000\n",
            "30/60 [==============>...............] - ETA: 0s - loss: 0.7012 - accuracy: 0.7372\n",
            "Epoch 23: saving model to model/keypoint_classifier\\keypoint_classifier.hdf5\n",
            "60/60 [==============================] - 0s 3ms/step - loss: 0.7149 - accuracy: 0.7307 - val_loss: 0.3347 - val_accuracy: 0.9142\n",
            "Epoch 24/1000\n",
            "33/60 [===============>..............] - ETA: 0s - loss: 0.6860 - accuracy: 0.7403\n",
            "Epoch 24: saving model to model/keypoint_classifier\\keypoint_classifier.hdf5\n",
            "60/60 [==============================] - 0s 3ms/step - loss: 0.6967 - accuracy: 0.7326 - val_loss: 0.3226 - val_accuracy: 0.9221\n",
            "Epoch 25/1000\n",
            "32/60 [===============>..............] - ETA: 0s - loss: 0.7059 - accuracy: 0.7305\n",
            "Epoch 25: saving model to model/keypoint_classifier\\keypoint_classifier.hdf5\n",
            "60/60 [==============================] - 0s 3ms/step - loss: 0.7041 - accuracy: 0.7309 - val_loss: 0.3220 - val_accuracy: 0.9146\n",
            "Epoch 26/1000\n",
            "30/60 [==============>...............] - ETA: 0s - loss: 0.6884 - accuracy: 0.7424\n",
            "Epoch 26: saving model to model/keypoint_classifier\\keypoint_classifier.hdf5\n",
            "60/60 [==============================] - 0s 3ms/step - loss: 0.6823 - accuracy: 0.7465 - val_loss: 0.3084 - val_accuracy: 0.9197\n",
            "Epoch 27/1000\n",
            "31/60 [==============>...............] - ETA: 0s - loss: 0.6676 - accuracy: 0.7497\n",
            "Epoch 27: saving model to model/keypoint_classifier\\keypoint_classifier.hdf5\n",
            "60/60 [==============================] - 0s 3ms/step - loss: 0.6733 - accuracy: 0.7492 - val_loss: 0.3105 - val_accuracy: 0.9170\n",
            "Epoch 28/1000\n",
            "33/60 [===============>..............] - ETA: 0s - loss: 0.6893 - accuracy: 0.7365\n",
            "Epoch 28: saving model to model/keypoint_classifier\\keypoint_classifier.hdf5\n",
            "60/60 [==============================] - 0s 3ms/step - loss: 0.6822 - accuracy: 0.7428 - val_loss: 0.3045 - val_accuracy: 0.9229\n",
            "Epoch 29/1000\n",
            "31/60 [==============>...............] - ETA: 0s - loss: 0.6774 - accuracy: 0.7508\n",
            "Epoch 29: saving model to model/keypoint_classifier\\keypoint_classifier.hdf5\n",
            "60/60 [==============================] - 0s 3ms/step - loss: 0.6659 - accuracy: 0.7514 - val_loss: 0.2937 - val_accuracy: 0.9221\n",
            "Epoch 30/1000\n",
            "33/60 [===============>..............] - ETA: 0s - loss: 0.6766 - accuracy: 0.7446\n",
            "Epoch 30: saving model to model/keypoint_classifier\\keypoint_classifier.hdf5\n",
            "60/60 [==============================] - 0s 3ms/step - loss: 0.6605 - accuracy: 0.7544 - val_loss: 0.2937 - val_accuracy: 0.9245\n",
            "Epoch 31/1000\n",
            "32/60 [===============>..............] - ETA: 0s - loss: 0.6547 - accuracy: 0.7529\n",
            "Epoch 31: saving model to model/keypoint_classifier\\keypoint_classifier.hdf5\n",
            "60/60 [==============================] - 0s 3ms/step - loss: 0.6610 - accuracy: 0.7510 - val_loss: 0.2886 - val_accuracy: 0.9189\n",
            "Epoch 32/1000\n",
            "33/60 [===============>..............] - ETA: 0s - loss: 0.6408 - accuracy: 0.7533\n",
            "Epoch 32: saving model to model/keypoint_classifier\\keypoint_classifier.hdf5\n",
            "60/60 [==============================] - 0s 3ms/step - loss: 0.6490 - accuracy: 0.7522 - val_loss: 0.2880 - val_accuracy: 0.9261\n",
            "Epoch 33/1000\n",
            "31/60 [==============>...............] - ETA: 0s - loss: 0.6608 - accuracy: 0.7503\n",
            "Epoch 33: saving model to model/keypoint_classifier\\keypoint_classifier.hdf5\n",
            "60/60 [==============================] - 0s 3ms/step - loss: 0.6606 - accuracy: 0.7513 - val_loss: 0.2902 - val_accuracy: 0.9209\n",
            "Epoch 34/1000\n",
            "31/60 [==============>...............] - ETA: 0s - loss: 0.6573 - accuracy: 0.7523\n",
            "Epoch 34: saving model to model/keypoint_classifier\\keypoint_classifier.hdf5\n",
            "60/60 [==============================] - 0s 3ms/step - loss: 0.6534 - accuracy: 0.7566 - val_loss: 0.2807 - val_accuracy: 0.9245\n",
            "Epoch 35/1000\n",
            "32/60 [===============>..............] - ETA: 0s - loss: 0.6711 - accuracy: 0.7517\n",
            "Epoch 35: saving model to model/keypoint_classifier\\keypoint_classifier.hdf5\n",
            "60/60 [==============================] - 0s 3ms/step - loss: 0.6597 - accuracy: 0.7542 - val_loss: 0.2785 - val_accuracy: 0.9249\n",
            "Epoch 36/1000\n",
            "33/60 [===============>..............] - ETA: 0s - loss: 0.6376 - accuracy: 0.7680\n",
            "Epoch 36: saving model to model/keypoint_classifier\\keypoint_classifier.hdf5\n",
            "60/60 [==============================] - 0s 3ms/step - loss: 0.6442 - accuracy: 0.7595 - val_loss: 0.2746 - val_accuracy: 0.9237\n",
            "Epoch 37/1000\n",
            "31/60 [==============>...............] - ETA: 0s - loss: 0.6206 - accuracy: 0.7656\n",
            "Epoch 37: saving model to model/keypoint_classifier\\keypoint_classifier.hdf5\n",
            "60/60 [==============================] - 0s 3ms/step - loss: 0.6330 - accuracy: 0.7606 - val_loss: 0.2733 - val_accuracy: 0.9257\n",
            "Epoch 38/1000\n",
            "58/60 [============================>.] - ETA: 0s - loss: 0.6227 - accuracy: 0.7699\n",
            "Epoch 38: saving model to model/keypoint_classifier\\keypoint_classifier.hdf5\n",
            "60/60 [==============================] - 0s 3ms/step - loss: 0.6218 - accuracy: 0.7707 - val_loss: 0.2656 - val_accuracy: 0.9253\n",
            "Epoch 39/1000\n",
            "50/60 [========================>.....] - ETA: 0s - loss: 0.6280 - accuracy: 0.7716\n",
            "Epoch 39: saving model to model/keypoint_classifier\\keypoint_classifier.hdf5\n",
            "60/60 [==============================] - 0s 3ms/step - loss: 0.6298 - accuracy: 0.7703 - val_loss: 0.2670 - val_accuracy: 0.9276\n",
            "Epoch 40/1000\n",
            "30/60 [==============>...............] - ETA: 0s - loss: 0.6606 - accuracy: 0.7552\n",
            "Epoch 40: saving model to model/keypoint_classifier\\keypoint_classifier.hdf5\n",
            "60/60 [==============================] - 0s 3ms/step - loss: 0.6386 - accuracy: 0.7620 - val_loss: 0.2684 - val_accuracy: 0.9265\n",
            "Epoch 41/1000\n",
            "32/60 [===============>..............] - ETA: 0s - loss: 0.6212 - accuracy: 0.7786\n",
            "Epoch 41: saving model to model/keypoint_classifier\\keypoint_classifier.hdf5\n",
            "60/60 [==============================] - 0s 3ms/step - loss: 0.6249 - accuracy: 0.7716 - val_loss: 0.2608 - val_accuracy: 0.9268\n",
            "Epoch 42/1000\n",
            "32/60 [===============>..............] - ETA: 0s - loss: 0.6205 - accuracy: 0.7742\n",
            "Epoch 42: saving model to model/keypoint_classifier\\keypoint_classifier.hdf5\n",
            "60/60 [==============================] - 0s 3ms/step - loss: 0.6251 - accuracy: 0.7708 - val_loss: 0.2596 - val_accuracy: 0.9249\n",
            "Epoch 43/1000\n",
            "60/60 [==============================] - ETA: 0s - loss: 0.6087 - accuracy: 0.7670\n",
            "Epoch 43: saving model to model/keypoint_classifier\\keypoint_classifier.hdf5\n",
            "60/60 [==============================] - 0s 3ms/step - loss: 0.6087 - accuracy: 0.7670 - val_loss: 0.2547 - val_accuracy: 0.9272\n",
            "Epoch 44/1000\n",
            "32/60 [===============>..............] - ETA: 0s - loss: 0.6073 - accuracy: 0.7783\n",
            "Epoch 44: saving model to model/keypoint_classifier\\keypoint_classifier.hdf5\n",
            "60/60 [==============================] - 0s 3ms/step - loss: 0.6158 - accuracy: 0.7699 - val_loss: 0.2588 - val_accuracy: 0.9272\n",
            "Epoch 45/1000\n",
            "60/60 [==============================] - ETA: 0s - loss: 0.6045 - accuracy: 0.7728\n",
            "Epoch 45: saving model to model/keypoint_classifier\\keypoint_classifier.hdf5\n",
            "60/60 [==============================] - 0s 3ms/step - loss: 0.6045 - accuracy: 0.7728 - val_loss: 0.2574 - val_accuracy: 0.9261\n",
            "Epoch 46/1000\n",
            "31/60 [==============>...............] - ETA: 0s - loss: 0.6089 - accuracy: 0.7636\n",
            "Epoch 46: saving model to model/keypoint_classifier\\keypoint_classifier.hdf5\n",
            "60/60 [==============================] - 0s 3ms/step - loss: 0.6131 - accuracy: 0.7700 - val_loss: 0.2522 - val_accuracy: 0.9272\n",
            "Epoch 47/1000\n",
            "31/60 [==============>...............] - ETA: 0s - loss: 0.5967 - accuracy: 0.7777\n",
            "Epoch 47: saving model to model/keypoint_classifier\\keypoint_classifier.hdf5\n",
            "60/60 [==============================] - 0s 3ms/step - loss: 0.5969 - accuracy: 0.7745 - val_loss: 0.2506 - val_accuracy: 0.9268\n",
            "Epoch 48/1000\n",
            "59/60 [============================>.] - ETA: 0s - loss: 0.6052 - accuracy: 0.7801\n",
            "Epoch 48: saving model to model/keypoint_classifier\\keypoint_classifier.hdf5\n",
            "60/60 [==============================] - 0s 3ms/step - loss: 0.6061 - accuracy: 0.7799 - val_loss: 0.2420 - val_accuracy: 0.9280\n",
            "Epoch 49/1000\n",
            "56/60 [===========================>..] - ETA: 0s - loss: 0.5949 - accuracy: 0.7783\n",
            "Epoch 49: saving model to model/keypoint_classifier\\keypoint_classifier.hdf5\n",
            "60/60 [==============================] - 0s 3ms/step - loss: 0.5961 - accuracy: 0.7790 - val_loss: 0.2437 - val_accuracy: 0.9284\n",
            "Epoch 50/1000\n",
            "60/60 [==============================] - ETA: 0s - loss: 0.5932 - accuracy: 0.7812\n",
            "Epoch 50: saving model to model/keypoint_classifier\\keypoint_classifier.hdf5\n",
            "60/60 [==============================] - 0s 3ms/step - loss: 0.5932 - accuracy: 0.7812 - val_loss: 0.2445 - val_accuracy: 0.9265\n",
            "Epoch 51/1000\n",
            "32/60 [===============>..............] - ETA: 0s - loss: 0.6018 - accuracy: 0.7761\n",
            "Epoch 51: saving model to model/keypoint_classifier\\keypoint_classifier.hdf5\n",
            "60/60 [==============================] - 0s 3ms/step - loss: 0.6061 - accuracy: 0.7716 - val_loss: 0.2399 - val_accuracy: 0.9304\n",
            "Epoch 52/1000\n",
            "32/60 [===============>..............] - ETA: 0s - loss: 0.5947 - accuracy: 0.7815\n",
            "Epoch 52: saving model to model/keypoint_classifier\\keypoint_classifier.hdf5\n",
            "60/60 [==============================] - 0s 3ms/step - loss: 0.5889 - accuracy: 0.7848 - val_loss: 0.2393 - val_accuracy: 0.9296\n",
            "Epoch 53/1000\n",
            "30/60 [==============>...............] - ETA: 0s - loss: 0.6069 - accuracy: 0.7654\n",
            "Epoch 53: saving model to model/keypoint_classifier\\keypoint_classifier.hdf5\n",
            "60/60 [==============================] - 0s 3ms/step - loss: 0.5944 - accuracy: 0.7755 - val_loss: 0.2401 - val_accuracy: 0.9316\n",
            "Epoch 54/1000\n",
            "32/60 [===============>..............] - ETA: 0s - loss: 0.5675 - accuracy: 0.7881\n",
            "Epoch 54: saving model to model/keypoint_classifier\\keypoint_classifier.hdf5\n",
            "60/60 [==============================] - 0s 3ms/step - loss: 0.5752 - accuracy: 0.7846 - val_loss: 0.2385 - val_accuracy: 0.9316\n",
            "Epoch 55/1000\n",
            "31/60 [==============>...............] - ETA: 0s - loss: 0.5907 - accuracy: 0.7767\n",
            "Epoch 55: saving model to model/keypoint_classifier\\keypoint_classifier.hdf5\n",
            "60/60 [==============================] - 0s 3ms/step - loss: 0.5840 - accuracy: 0.7799 - val_loss: 0.2377 - val_accuracy: 0.9316\n",
            "Epoch 56/1000\n",
            "31/60 [==============>...............] - ETA: 0s - loss: 0.5670 - accuracy: 0.7891\n",
            "Epoch 56: saving model to model/keypoint_classifier\\keypoint_classifier.hdf5\n",
            "60/60 [==============================] - 0s 3ms/step - loss: 0.5832 - accuracy: 0.7812 - val_loss: 0.2334 - val_accuracy: 0.9324\n",
            "Epoch 57/1000\n",
            "60/60 [==============================] - ETA: 0s - loss: 0.5788 - accuracy: 0.7841\n",
            "Epoch 57: saving model to model/keypoint_classifier\\keypoint_classifier.hdf5\n",
            "60/60 [==============================] - 0s 3ms/step - loss: 0.5788 - accuracy: 0.7841 - val_loss: 0.2353 - val_accuracy: 0.9332\n",
            "Epoch 58/1000\n",
            "32/60 [===============>..............] - ETA: 0s - loss: 0.5659 - accuracy: 0.7891\n",
            "Epoch 58: saving model to model/keypoint_classifier\\keypoint_classifier.hdf5\n",
            "60/60 [==============================] - 0s 3ms/step - loss: 0.5722 - accuracy: 0.7828 - val_loss: 0.2380 - val_accuracy: 0.9344\n",
            "Epoch 59/1000\n",
            "32/60 [===============>..............] - ETA: 0s - loss: 0.5990 - accuracy: 0.7698\n",
            "Epoch 59: saving model to model/keypoint_classifier\\keypoint_classifier.hdf5\n",
            "60/60 [==============================] - 0s 3ms/step - loss: 0.5878 - accuracy: 0.7763 - val_loss: 0.2385 - val_accuracy: 0.9272\n",
            "Epoch 60/1000\n",
            "32/60 [===============>..............] - ETA: 0s - loss: 0.5811 - accuracy: 0.7769\n",
            "Epoch 60: saving model to model/keypoint_classifier\\keypoint_classifier.hdf5\n",
            "60/60 [==============================] - 0s 3ms/step - loss: 0.5795 - accuracy: 0.7821 - val_loss: 0.2372 - val_accuracy: 0.9312\n",
            "Epoch 61/1000\n",
            "31/60 [==============>...............] - ETA: 0s - loss: 0.5656 - accuracy: 0.7863\n",
            "Epoch 61: saving model to model/keypoint_classifier\\keypoint_classifier.hdf5\n",
            "60/60 [==============================] - 0s 3ms/step - loss: 0.5649 - accuracy: 0.7875 - val_loss: 0.2301 - val_accuracy: 0.9336\n",
            "Epoch 62/1000\n",
            "30/60 [==============>...............] - ETA: 0s - loss: 0.5814 - accuracy: 0.7844\n",
            "Epoch 62: saving model to model/keypoint_classifier\\keypoint_classifier.hdf5\n",
            "60/60 [==============================] - 0s 3ms/step - loss: 0.5781 - accuracy: 0.7808 - val_loss: 0.2302 - val_accuracy: 0.9348\n",
            "Epoch 63/1000\n",
            "59/60 [============================>.] - ETA: 0s - loss: 0.5746 - accuracy: 0.7826\n",
            "Epoch 63: saving model to model/keypoint_classifier\\keypoint_classifier.hdf5\n",
            "60/60 [==============================] - 0s 3ms/step - loss: 0.5749 - accuracy: 0.7820 - val_loss: 0.2315 - val_accuracy: 0.9324\n",
            "Epoch 64/1000\n",
            "54/60 [==========================>...] - ETA: 0s - loss: 0.5668 - accuracy: 0.7870\n",
            "Epoch 64: saving model to model/keypoint_classifier\\keypoint_classifier.hdf5\n",
            "60/60 [==============================] - 0s 3ms/step - loss: 0.5649 - accuracy: 0.7890 - val_loss: 0.2245 - val_accuracy: 0.9352\n",
            "Epoch 65/1000\n",
            "59/60 [============================>.] - ETA: 0s - loss: 0.5531 - accuracy: 0.7883\n",
            "Epoch 65: saving model to model/keypoint_classifier\\keypoint_classifier.hdf5\n",
            "60/60 [==============================] - 0s 3ms/step - loss: 0.5530 - accuracy: 0.7883 - val_loss: 0.2317 - val_accuracy: 0.9348\n",
            "Epoch 66/1000\n",
            "49/60 [=======================>......] - ETA: 0s - loss: 0.5699 - accuracy: 0.7851\n",
            "Epoch 66: saving model to model/keypoint_classifier\\keypoint_classifier.hdf5\n",
            "60/60 [==============================] - 0s 3ms/step - loss: 0.5745 - accuracy: 0.7850 - val_loss: 0.2288 - val_accuracy: 0.9363\n",
            "Epoch 67/1000\n",
            "31/60 [==============>...............] - ETA: 0s - loss: 0.5554 - accuracy: 0.7939\n",
            "Epoch 67: saving model to model/keypoint_classifier\\keypoint_classifier.hdf5\n",
            "60/60 [==============================] - 0s 3ms/step - loss: 0.5519 - accuracy: 0.7946 - val_loss: 0.2248 - val_accuracy: 0.9363\n",
            "Epoch 68/1000\n",
            "57/60 [===========================>..] - ETA: 0s - loss: 0.5579 - accuracy: 0.7965\n",
            "Epoch 68: saving model to model/keypoint_classifier\\keypoint_classifier.hdf5\n",
            "60/60 [==============================] - 0s 3ms/step - loss: 0.5552 - accuracy: 0.7966 - val_loss: 0.2229 - val_accuracy: 0.9363\n",
            "Epoch 69/1000\n",
            "60/60 [==============================] - ETA: 0s - loss: 0.5635 - accuracy: 0.7875\n",
            "Epoch 69: saving model to model/keypoint_classifier\\keypoint_classifier.hdf5\n",
            "60/60 [==============================] - 0s 3ms/step - loss: 0.5635 - accuracy: 0.7875 - val_loss: 0.2256 - val_accuracy: 0.9332\n",
            "Epoch 70/1000\n",
            "46/60 [======================>.......] - ETA: 0s - loss: 0.5599 - accuracy: 0.7882\n",
            "Epoch 70: saving model to model/keypoint_classifier\\keypoint_classifier.hdf5\n",
            "60/60 [==============================] - 0s 3ms/step - loss: 0.5621 - accuracy: 0.7878 - val_loss: 0.2300 - val_accuracy: 0.9296\n",
            "Epoch 71/1000\n",
            "32/60 [===============>..............] - ETA: 0s - loss: 0.5548 - accuracy: 0.7920\n",
            "Epoch 71: saving model to model/keypoint_classifier\\keypoint_classifier.hdf5\n",
            "60/60 [==============================] - 0s 3ms/step - loss: 0.5553 - accuracy: 0.7937 - val_loss: 0.2243 - val_accuracy: 0.9348\n",
            "Epoch 72/1000\n",
            "32/60 [===============>..............] - ETA: 0s - loss: 0.5399 - accuracy: 0.7974\n",
            "Epoch 72: saving model to model/keypoint_classifier\\keypoint_classifier.hdf5\n",
            "60/60 [==============================] - 0s 3ms/step - loss: 0.5387 - accuracy: 0.7989 - val_loss: 0.2247 - val_accuracy: 0.9336\n",
            "Epoch 73/1000\n",
            "31/60 [==============>...............] - ETA: 0s - loss: 0.5518 - accuracy: 0.7850\n",
            "Epoch 73: saving model to model/keypoint_classifier\\keypoint_classifier.hdf5\n",
            "60/60 [==============================] - 0s 3ms/step - loss: 0.5552 - accuracy: 0.7917 - val_loss: 0.2246 - val_accuracy: 0.9348\n",
            "Epoch 74/1000\n",
            "31/60 [==============>...............] - ETA: 0s - loss: 0.5587 - accuracy: 0.7901\n",
            "Epoch 74: saving model to model/keypoint_classifier\\keypoint_classifier.hdf5\n",
            "60/60 [==============================] - 0s 3ms/step - loss: 0.5419 - accuracy: 0.7958 - val_loss: 0.2172 - val_accuracy: 0.9344\n",
            "Epoch 75/1000\n",
            "31/60 [==============>...............] - ETA: 0s - loss: 0.5351 - accuracy: 0.8092\n",
            "Epoch 75: saving model to model/keypoint_classifier\\keypoint_classifier.hdf5\n",
            "60/60 [==============================] - 0s 3ms/step - loss: 0.5418 - accuracy: 0.8008 - val_loss: 0.2186 - val_accuracy: 0.9363\n",
            "Epoch 76/1000\n",
            "49/60 [=======================>......] - ETA: 0s - loss: 0.5432 - accuracy: 0.7975\n",
            "Epoch 76: saving model to model/keypoint_classifier\\keypoint_classifier.hdf5\n",
            "60/60 [==============================] - 0s 3ms/step - loss: 0.5361 - accuracy: 0.8018 - val_loss: 0.2156 - val_accuracy: 0.9348\n",
            "Epoch 77/1000\n",
            "53/60 [=========================>....] - ETA: 0s - loss: 0.5391 - accuracy: 0.7957\n",
            "Epoch 77: saving model to model/keypoint_classifier\\keypoint_classifier.hdf5\n",
            "60/60 [==============================] - 0s 3ms/step - loss: 0.5444 - accuracy: 0.7919 - val_loss: 0.2104 - val_accuracy: 0.9352\n",
            "Epoch 78/1000\n",
            "56/60 [===========================>..] - ETA: 0s - loss: 0.5358 - accuracy: 0.7960\n",
            "Epoch 78: saving model to model/keypoint_classifier\\keypoint_classifier.hdf5\n",
            "60/60 [==============================] - 0s 3ms/step - loss: 0.5379 - accuracy: 0.7949 - val_loss: 0.2174 - val_accuracy: 0.9359\n",
            "Epoch 79/1000\n",
            "31/60 [==============>...............] - ETA: 0s - loss: 0.5373 - accuracy: 0.7949\n",
            "Epoch 79: saving model to model/keypoint_classifier\\keypoint_classifier.hdf5\n",
            "60/60 [==============================] - 0s 3ms/step - loss: 0.5413 - accuracy: 0.7945 - val_loss: 0.2182 - val_accuracy: 0.9359\n",
            "Epoch 80/1000\n",
            "58/60 [============================>.] - ETA: 0s - loss: 0.5407 - accuracy: 0.8004\n",
            "Epoch 80: saving model to model/keypoint_classifier\\keypoint_classifier.hdf5\n",
            "60/60 [==============================] - 0s 3ms/step - loss: 0.5423 - accuracy: 0.7995 - val_loss: 0.2148 - val_accuracy: 0.9375\n",
            "Epoch 81/1000\n",
            "31/60 [==============>...............] - ETA: 0s - loss: 0.5551 - accuracy: 0.7933\n",
            "Epoch 81: saving model to model/keypoint_classifier\\keypoint_classifier.hdf5\n",
            "60/60 [==============================] - 0s 3ms/step - loss: 0.5532 - accuracy: 0.7949 - val_loss: 0.2180 - val_accuracy: 0.9363\n",
            "Epoch 82/1000\n",
            "53/60 [=========================>....] - ETA: 0s - loss: 0.5300 - accuracy: 0.8034\n",
            "Epoch 82: saving model to model/keypoint_classifier\\keypoint_classifier.hdf5\n",
            "60/60 [==============================] - 0s 3ms/step - loss: 0.5370 - accuracy: 0.8028 - val_loss: 0.2107 - val_accuracy: 0.9383\n",
            "Epoch 83/1000\n",
            "59/60 [============================>.] - ETA: 0s - loss: 0.5378 - accuracy: 0.7970\n",
            "Epoch 83: saving model to model/keypoint_classifier\\keypoint_classifier.hdf5\n",
            "60/60 [==============================] - 0s 3ms/step - loss: 0.5389 - accuracy: 0.7968 - val_loss: 0.2120 - val_accuracy: 0.9355\n",
            "Epoch 84/1000\n",
            "60/60 [==============================] - ETA: 0s - loss: 0.5555 - accuracy: 0.7906\n",
            "Epoch 84: saving model to model/keypoint_classifier\\keypoint_classifier.hdf5\n",
            "60/60 [==============================] - 0s 4ms/step - loss: 0.5555 - accuracy: 0.7906 - val_loss: 0.2215 - val_accuracy: 0.9344\n",
            "Epoch 85/1000\n",
            "52/60 [=========================>....] - ETA: 0s - loss: 0.5292 - accuracy: 0.7963\n",
            "Epoch 85: saving model to model/keypoint_classifier\\keypoint_classifier.hdf5\n",
            "60/60 [==============================] - 0s 3ms/step - loss: 0.5289 - accuracy: 0.7945 - val_loss: 0.2140 - val_accuracy: 0.9371\n",
            "Epoch 86/1000\n",
            "45/60 [=====================>........] - ETA: 0s - loss: 0.5320 - accuracy: 0.8057\n",
            "Epoch 86: saving model to model/keypoint_classifier\\keypoint_classifier.hdf5\n",
            "60/60 [==============================] - 0s 3ms/step - loss: 0.5358 - accuracy: 0.8037 - val_loss: 0.2125 - val_accuracy: 0.9371\n",
            "Epoch 87/1000\n",
            "30/60 [==============>...............] - ETA: 0s - loss: 0.5400 - accuracy: 0.8010\n",
            "Epoch 87: saving model to model/keypoint_classifier\\keypoint_classifier.hdf5\n",
            "60/60 [==============================] - 0s 3ms/step - loss: 0.5458 - accuracy: 0.7998 - val_loss: 0.2169 - val_accuracy: 0.9348\n",
            "Epoch 88/1000\n",
            "60/60 [==============================] - ETA: 0s - loss: 0.5299 - accuracy: 0.7990\n",
            "Epoch 88: saving model to model/keypoint_classifier\\keypoint_classifier.hdf5\n",
            "60/60 [==============================] - 0s 3ms/step - loss: 0.5299 - accuracy: 0.7990 - val_loss: 0.2112 - val_accuracy: 0.9407\n",
            "Epoch 89/1000\n",
            "42/60 [====================>.........] - ETA: 0s - loss: 0.5357 - accuracy: 0.8026\n",
            "Epoch 89: saving model to model/keypoint_classifier\\keypoint_classifier.hdf5\n",
            "60/60 [==============================] - 0s 4ms/step - loss: 0.5314 - accuracy: 0.8045 - val_loss: 0.2088 - val_accuracy: 0.9383\n",
            "Epoch 90/1000\n",
            "57/60 [===========================>..] - ETA: 0s - loss: 0.5240 - accuracy: 0.7995\n",
            "Epoch 90: saving model to model/keypoint_classifier\\keypoint_classifier.hdf5\n",
            "60/60 [==============================] - 0s 3ms/step - loss: 0.5217 - accuracy: 0.7999 - val_loss: 0.2107 - val_accuracy: 0.9391\n",
            "Epoch 91/1000\n",
            "56/60 [===========================>..] - ETA: 0s - loss: 0.5386 - accuracy: 0.7974\n",
            "Epoch 91: saving model to model/keypoint_classifier\\keypoint_classifier.hdf5\n",
            "60/60 [==============================] - 0s 3ms/step - loss: 0.5400 - accuracy: 0.7969 - val_loss: 0.2090 - val_accuracy: 0.9387\n",
            "Epoch 92/1000\n",
            "60/60 [==============================] - ETA: 0s - loss: 0.5398 - accuracy: 0.7977\n",
            "Epoch 92: saving model to model/keypoint_classifier\\keypoint_classifier.hdf5\n",
            "60/60 [==============================] - 0s 3ms/step - loss: 0.5398 - accuracy: 0.7977 - val_loss: 0.2151 - val_accuracy: 0.9316\n",
            "Epoch 93/1000\n",
            "59/60 [============================>.] - ETA: 0s - loss: 0.5274 - accuracy: 0.8050\n",
            "Epoch 93: saving model to model/keypoint_classifier\\keypoint_classifier.hdf5\n",
            "60/60 [==============================] - 0s 3ms/step - loss: 0.5279 - accuracy: 0.8053 - val_loss: 0.2144 - val_accuracy: 0.9359\n",
            "Epoch 94/1000\n",
            "30/60 [==============>...............] - ETA: 0s - loss: 0.5398 - accuracy: 0.8023\n",
            "Epoch 94: saving model to model/keypoint_classifier\\keypoint_classifier.hdf5\n",
            "60/60 [==============================] - 0s 3ms/step - loss: 0.5312 - accuracy: 0.8068 - val_loss: 0.2137 - val_accuracy: 0.9375\n",
            "Epoch 95/1000\n",
            "58/60 [============================>.] - ETA: 0s - loss: 0.5262 - accuracy: 0.8021\n",
            "Epoch 95: saving model to model/keypoint_classifier\\keypoint_classifier.hdf5\n",
            "60/60 [==============================] - 0s 3ms/step - loss: 0.5252 - accuracy: 0.8031 - val_loss: 0.2137 - val_accuracy: 0.9308\n",
            "Epoch 96/1000\n",
            "46/60 [======================>.......] - ETA: 0s - loss: 0.5131 - accuracy: 0.8045\n",
            "Epoch 96: saving model to model/keypoint_classifier\\keypoint_classifier.hdf5\n",
            "60/60 [==============================] - 0s 4ms/step - loss: 0.5193 - accuracy: 0.8060 - val_loss: 0.2136 - val_accuracy: 0.9359\n",
            "Epoch 97/1000\n",
            "49/60 [=======================>......] - ETA: 0s - loss: 0.5374 - accuracy: 0.8002\n",
            "Epoch 97: saving model to model/keypoint_classifier\\keypoint_classifier.hdf5\n",
            "60/60 [==============================] - 0s 4ms/step - loss: 0.5385 - accuracy: 0.7998 - val_loss: 0.2138 - val_accuracy: 0.9359\n",
            "Epoch 98/1000\n",
            "56/60 [===========================>..] - ETA: 0s - loss: 0.5132 - accuracy: 0.8052\n",
            "Epoch 98: saving model to model/keypoint_classifier\\keypoint_classifier.hdf5\n",
            "60/60 [==============================] - 0s 3ms/step - loss: 0.5184 - accuracy: 0.8040 - val_loss: 0.2114 - val_accuracy: 0.9367\n",
            "Epoch 99/1000\n",
            "51/60 [========================>.....] - ETA: 0s - loss: 0.5135 - accuracy: 0.8108\n",
            "Epoch 99: saving model to model/keypoint_classifier\\keypoint_classifier.hdf5\n",
            "60/60 [==============================] - 0s 4ms/step - loss: 0.5133 - accuracy: 0.8109 - val_loss: 0.2179 - val_accuracy: 0.9363\n",
            "Epoch 100/1000\n",
            "55/60 [==========================>...] - ETA: 0s - loss: 0.5208 - accuracy: 0.8013\n",
            "Epoch 100: saving model to model/keypoint_classifier\\keypoint_classifier.hdf5\n",
            "60/60 [==============================] - 0s 3ms/step - loss: 0.5253 - accuracy: 0.7993 - val_loss: 0.2126 - val_accuracy: 0.9344\n",
            "Epoch 101/1000\n",
            "42/60 [====================>.........] - ETA: 0s - loss: 0.5197 - accuracy: 0.8054\n",
            "Epoch 101: saving model to model/keypoint_classifier\\keypoint_classifier.hdf5\n",
            "60/60 [==============================] - 0s 4ms/step - loss: 0.5185 - accuracy: 0.8056 - val_loss: 0.2089 - val_accuracy: 0.9387\n",
            "Epoch 102/1000\n",
            "53/60 [=========================>....] - ETA: 0s - loss: 0.5079 - accuracy: 0.8103\n",
            "Epoch 102: saving model to model/keypoint_classifier\\keypoint_classifier.hdf5\n",
            "60/60 [==============================] - 0s 3ms/step - loss: 0.5102 - accuracy: 0.8090 - val_loss: 0.2122 - val_accuracy: 0.9375\n",
            "Epoch 103/1000\n",
            "47/60 [======================>.......] - ETA: 0s - loss: 0.5406 - accuracy: 0.7962\n",
            "Epoch 103: saving model to model/keypoint_classifier\\keypoint_classifier.hdf5\n",
            "60/60 [==============================] - 0s 4ms/step - loss: 0.5323 - accuracy: 0.7989 - val_loss: 0.2107 - val_accuracy: 0.9359\n",
            "Epoch 104/1000\n",
            "51/60 [========================>.....] - ETA: 0s - loss: 0.5144 - accuracy: 0.8073\n",
            "Epoch 104: saving model to model/keypoint_classifier\\keypoint_classifier.hdf5\n",
            "60/60 [==============================] - 0s 3ms/step - loss: 0.5152 - accuracy: 0.8051 - val_loss: 0.2097 - val_accuracy: 0.9379\n",
            "Epoch 105/1000\n",
            "56/60 [===========================>..] - ETA: 0s - loss: 0.5135 - accuracy: 0.7995\n",
            "Epoch 105: saving model to model/keypoint_classifier\\keypoint_classifier.hdf5\n",
            "60/60 [==============================] - 0s 3ms/step - loss: 0.5156 - accuracy: 0.7983 - val_loss: 0.2081 - val_accuracy: 0.9399\n",
            "Epoch 106/1000\n",
            "41/60 [===================>..........] - ETA: 0s - loss: 0.5167 - accuracy: 0.8070\n",
            "Epoch 106: saving model to model/keypoint_classifier\\keypoint_classifier.hdf5\n",
            "60/60 [==============================] - 0s 4ms/step - loss: 0.5129 - accuracy: 0.8070 - val_loss: 0.2086 - val_accuracy: 0.9439\n",
            "Epoch 107/1000\n",
            "46/60 [======================>.......] - ETA: 0s - loss: 0.5300 - accuracy: 0.8096\n",
            "Epoch 107: saving model to model/keypoint_classifier\\keypoint_classifier.hdf5\n",
            "60/60 [==============================] - 0s 4ms/step - loss: 0.5261 - accuracy: 0.8091 - val_loss: 0.2092 - val_accuracy: 0.9328\n",
            "Epoch 108/1000\n",
            "43/60 [====================>.........] - ETA: 0s - loss: 0.5148 - accuracy: 0.8070\n",
            "Epoch 108: saving model to model/keypoint_classifier\\keypoint_classifier.hdf5\n",
            "60/60 [==============================] - 0s 4ms/step - loss: 0.5182 - accuracy: 0.8053 - val_loss: 0.2165 - val_accuracy: 0.9403\n",
            "Epoch 109/1000\n",
            "55/60 [==========================>...] - ETA: 0s - loss: 0.5117 - accuracy: 0.8085\n",
            "Epoch 109: saving model to model/keypoint_classifier\\keypoint_classifier.hdf5\n",
            "60/60 [==============================] - 0s 3ms/step - loss: 0.5118 - accuracy: 0.8090 - val_loss: 0.2107 - val_accuracy: 0.9458\n",
            "Epoch 110/1000\n",
            "48/60 [=======================>......] - ETA: 0s - loss: 0.5089 - accuracy: 0.8104\n",
            "Epoch 110: saving model to model/keypoint_classifier\\keypoint_classifier.hdf5\n",
            "60/60 [==============================] - 0s 4ms/step - loss: 0.5161 - accuracy: 0.8085 - val_loss: 0.2074 - val_accuracy: 0.9450\n",
            "Epoch 111/1000\n",
            "49/60 [=======================>......] - ETA: 0s - loss: 0.5015 - accuracy: 0.8160\n",
            "Epoch 111: saving model to model/keypoint_classifier\\keypoint_classifier.hdf5\n",
            "60/60 [==============================] - 0s 3ms/step - loss: 0.5036 - accuracy: 0.8127 - val_loss: 0.2061 - val_accuracy: 0.9442\n",
            "Epoch 112/1000\n",
            "47/60 [======================>.......] - ETA: 0s - loss: 0.5052 - accuracy: 0.8062\n",
            "Epoch 112: saving model to model/keypoint_classifier\\keypoint_classifier.hdf5\n",
            "60/60 [==============================] - 0s 3ms/step - loss: 0.5036 - accuracy: 0.8077 - val_loss: 0.2048 - val_accuracy: 0.9387\n",
            "Epoch 113/1000\n",
            "48/60 [=======================>......] - ETA: 0s - loss: 0.5075 - accuracy: 0.8084\n",
            "Epoch 113: saving model to model/keypoint_classifier\\keypoint_classifier.hdf5\n",
            "60/60 [==============================] - 0s 4ms/step - loss: 0.5055 - accuracy: 0.8113 - val_loss: 0.2066 - val_accuracy: 0.9415\n",
            "Epoch 114/1000\n",
            "44/60 [=====================>........] - ETA: 0s - loss: 0.5175 - accuracy: 0.8045\n",
            "Epoch 114: saving model to model/keypoint_classifier\\keypoint_classifier.hdf5\n",
            "60/60 [==============================] - 0s 4ms/step - loss: 0.5146 - accuracy: 0.8065 - val_loss: 0.2112 - val_accuracy: 0.9383\n",
            "Epoch 115/1000\n",
            "50/60 [========================>.....] - ETA: 0s - loss: 0.5127 - accuracy: 0.8069\n",
            "Epoch 115: saving model to model/keypoint_classifier\\keypoint_classifier.hdf5\n",
            "60/60 [==============================] - 0s 3ms/step - loss: 0.5060 - accuracy: 0.8098 - val_loss: 0.2140 - val_accuracy: 0.9375\n",
            "Epoch 116/1000\n",
            "39/60 [==================>...........] - ETA: 0s - loss: 0.5045 - accuracy: 0.8107\n",
            "Epoch 116: saving model to model/keypoint_classifier\\keypoint_classifier.hdf5\n",
            "60/60 [==============================] - 0s 4ms/step - loss: 0.5087 - accuracy: 0.8086 - val_loss: 0.2118 - val_accuracy: 0.9435\n",
            "Epoch 117/1000\n",
            "52/60 [=========================>....] - ETA: 0s - loss: 0.5100 - accuracy: 0.8134\n",
            "Epoch 117: saving model to model/keypoint_classifier\\keypoint_classifier.hdf5\n",
            "60/60 [==============================] - 0s 3ms/step - loss: 0.5109 - accuracy: 0.8120 - val_loss: 0.2031 - val_accuracy: 0.9423\n",
            "Epoch 118/1000\n",
            "50/60 [========================>.....] - ETA: 0s - loss: 0.5068 - accuracy: 0.8105\n",
            "Epoch 118: saving model to model/keypoint_classifier\\keypoint_classifier.hdf5\n",
            "60/60 [==============================] - 0s 3ms/step - loss: 0.5104 - accuracy: 0.8088 - val_loss: 0.2067 - val_accuracy: 0.9399\n",
            "Epoch 119/1000\n",
            "51/60 [========================>.....] - ETA: 0s - loss: 0.4981 - accuracy: 0.8108\n",
            "Epoch 119: saving model to model/keypoint_classifier\\keypoint_classifier.hdf5\n",
            "60/60 [==============================] - 0s 3ms/step - loss: 0.4952 - accuracy: 0.8127 - val_loss: 0.2133 - val_accuracy: 0.9383\n",
            "Epoch 120/1000\n",
            "49/60 [=======================>......] - ETA: 0s - loss: 0.5173 - accuracy: 0.8079\n",
            "Epoch 120: saving model to model/keypoint_classifier\\keypoint_classifier.hdf5\n",
            "60/60 [==============================] - 0s 3ms/step - loss: 0.5160 - accuracy: 0.8065 - val_loss: 0.2044 - val_accuracy: 0.9375\n",
            "Epoch 121/1000\n",
            "50/60 [========================>.....] - ETA: 0s - loss: 0.5158 - accuracy: 0.8122\n",
            "Epoch 121: saving model to model/keypoint_classifier\\keypoint_classifier.hdf5\n",
            "60/60 [==============================] - 0s 3ms/step - loss: 0.5131 - accuracy: 0.8152 - val_loss: 0.2092 - val_accuracy: 0.9340\n",
            "Epoch 122/1000\n",
            "50/60 [========================>.....] - ETA: 0s - loss: 0.5089 - accuracy: 0.8067\n",
            "Epoch 122: saving model to model/keypoint_classifier\\keypoint_classifier.hdf5\n",
            "60/60 [==============================] - 0s 3ms/step - loss: 0.5112 - accuracy: 0.8048 - val_loss: 0.2099 - val_accuracy: 0.9458\n",
            "Epoch 123/1000\n",
            "53/60 [=========================>....] - ETA: 0s - loss: 0.5226 - accuracy: 0.8020\n",
            "Epoch 123: saving model to model/keypoint_classifier\\keypoint_classifier.hdf5\n",
            "60/60 [==============================] - 0s 3ms/step - loss: 0.5236 - accuracy: 0.8035 - val_loss: 0.2041 - val_accuracy: 0.9419\n",
            "Epoch 124/1000\n",
            "46/60 [======================>.......] - ETA: 0s - loss: 0.5006 - accuracy: 0.8086\n",
            "Epoch 124: saving model to model/keypoint_classifier\\keypoint_classifier.hdf5\n",
            "60/60 [==============================] - 0s 3ms/step - loss: 0.5061 - accuracy: 0.8099 - val_loss: 0.2051 - val_accuracy: 0.9391\n",
            "Epoch 125/1000\n",
            "55/60 [==========================>...] - ETA: 0s - loss: 0.4975 - accuracy: 0.8142\n",
            "Epoch 125: saving model to model/keypoint_classifier\\keypoint_classifier.hdf5\n",
            "60/60 [==============================] - 0s 3ms/step - loss: 0.4981 - accuracy: 0.8134 - val_loss: 0.2061 - val_accuracy: 0.9419\n",
            "Epoch 126/1000\n",
            "49/60 [=======================>......] - ETA: 0s - loss: 0.5029 - accuracy: 0.8101\n",
            "Epoch 126: saving model to model/keypoint_classifier\\keypoint_classifier.hdf5\n",
            "60/60 [==============================] - 0s 3ms/step - loss: 0.5036 - accuracy: 0.8098 - val_loss: 0.2076 - val_accuracy: 0.9411\n",
            "Epoch 127/1000\n",
            "50/60 [========================>.....] - ETA: 0s - loss: 0.4981 - accuracy: 0.8136\n",
            "Epoch 127: saving model to model/keypoint_classifier\\keypoint_classifier.hdf5\n",
            "60/60 [==============================] - 0s 3ms/step - loss: 0.4971 - accuracy: 0.8135 - val_loss: 0.2103 - val_accuracy: 0.9415\n",
            "Epoch 128/1000\n",
            "50/60 [========================>.....] - ETA: 0s - loss: 0.4968 - accuracy: 0.8214\n",
            "Epoch 128: saving model to model/keypoint_classifier\\keypoint_classifier.hdf5\n",
            "60/60 [==============================] - 0s 3ms/step - loss: 0.4927 - accuracy: 0.8227 - val_loss: 0.2095 - val_accuracy: 0.9427\n",
            "Epoch 129/1000\n",
            "44/60 [=====================>........] - ETA: 0s - loss: 0.5138 - accuracy: 0.8077\n",
            "Epoch 129: saving model to model/keypoint_classifier\\keypoint_classifier.hdf5\n",
            "60/60 [==============================] - 0s 4ms/step - loss: 0.5025 - accuracy: 0.8147 - val_loss: 0.2024 - val_accuracy: 0.9435\n",
            "Epoch 130/1000\n",
            "50/60 [========================>.....] - ETA: 0s - loss: 0.4991 - accuracy: 0.8156\n",
            "Epoch 130: saving model to model/keypoint_classifier\\keypoint_classifier.hdf5\n",
            "60/60 [==============================] - 0s 3ms/step - loss: 0.5033 - accuracy: 0.8123 - val_loss: 0.2058 - val_accuracy: 0.9478\n",
            "Epoch 131/1000\n",
            "48/60 [=======================>......] - ETA: 0s - loss: 0.4974 - accuracy: 0.8182\n",
            "Epoch 131: saving model to model/keypoint_classifier\\keypoint_classifier.hdf5\n",
            "60/60 [==============================] - 0s 3ms/step - loss: 0.5002 - accuracy: 0.8161 - val_loss: 0.2013 - val_accuracy: 0.9415\n",
            "Epoch 132/1000\n",
            "52/60 [=========================>....] - ETA: 0s - loss: 0.5003 - accuracy: 0.8111\n",
            "Epoch 132: saving model to model/keypoint_classifier\\keypoint_classifier.hdf5\n",
            "60/60 [==============================] - 0s 3ms/step - loss: 0.4995 - accuracy: 0.8131 - val_loss: 0.2018 - val_accuracy: 0.9470\n",
            "Epoch 133/1000\n",
            "51/60 [========================>.....] - ETA: 0s - loss: 0.5136 - accuracy: 0.8064\n",
            "Epoch 133: saving model to model/keypoint_classifier\\keypoint_classifier.hdf5\n",
            "60/60 [==============================] - 0s 3ms/step - loss: 0.5161 - accuracy: 0.8078 - val_loss: 0.2037 - val_accuracy: 0.9435\n",
            "Epoch 134/1000\n",
            "39/60 [==================>...........] - ETA: 0s - loss: 0.4966 - accuracy: 0.8171\n",
            "Epoch 134: saving model to model/keypoint_classifier\\keypoint_classifier.hdf5\n",
            "60/60 [==============================] - 0s 4ms/step - loss: 0.4860 - accuracy: 0.8215 - val_loss: 0.2025 - val_accuracy: 0.9458\n",
            "Epoch 135/1000\n",
            "51/60 [========================>.....] - ETA: 0s - loss: 0.5095 - accuracy: 0.8102\n",
            "Epoch 135: saving model to model/keypoint_classifier\\keypoint_classifier.hdf5\n",
            "60/60 [==============================] - 0s 3ms/step - loss: 0.5059 - accuracy: 0.8110 - val_loss: 0.2148 - val_accuracy: 0.9442\n",
            "Epoch 136/1000\n",
            "50/60 [========================>.....] - ETA: 0s - loss: 0.4942 - accuracy: 0.8183\n",
            "Epoch 136: saving model to model/keypoint_classifier\\keypoint_classifier.hdf5\n",
            "60/60 [==============================] - 0s 3ms/step - loss: 0.4973 - accuracy: 0.8173 - val_loss: 0.2115 - val_accuracy: 0.9419\n",
            "Epoch 137/1000\n",
            "48/60 [=======================>......] - ETA: 0s - loss: 0.5019 - accuracy: 0.8182\n",
            "Epoch 137: saving model to model/keypoint_classifier\\keypoint_classifier.hdf5\n",
            "60/60 [==============================] - 0s 3ms/step - loss: 0.5096 - accuracy: 0.8144 - val_loss: 0.2051 - val_accuracy: 0.9450\n",
            "Epoch 138/1000\n",
            "49/60 [=======================>......] - ETA: 0s - loss: 0.4974 - accuracy: 0.8162\n",
            "Epoch 138: saving model to model/keypoint_classifier\\keypoint_classifier.hdf5\n",
            "60/60 [==============================] - 0s 3ms/step - loss: 0.4941 - accuracy: 0.8163 - val_loss: 0.2136 - val_accuracy: 0.9435\n",
            "Epoch 139/1000\n",
            "47/60 [======================>.......] - ETA: 0s - loss: 0.4967 - accuracy: 0.8205\n",
            "Epoch 139: saving model to model/keypoint_classifier\\keypoint_classifier.hdf5\n",
            "60/60 [==============================] - 0s 3ms/step - loss: 0.4987 - accuracy: 0.8189 - val_loss: 0.2109 - val_accuracy: 0.9442\n",
            "Epoch 140/1000\n",
            "53/60 [=========================>....] - ETA: 0s - loss: 0.4833 - accuracy: 0.8227\n",
            "Epoch 140: saving model to model/keypoint_classifier\\keypoint_classifier.hdf5\n",
            "60/60 [==============================] - 0s 3ms/step - loss: 0.4848 - accuracy: 0.8223 - val_loss: 0.2081 - val_accuracy: 0.9435\n",
            "Epoch 141/1000\n",
            "51/60 [========================>.....] - ETA: 0s - loss: 0.5001 - accuracy: 0.8157\n",
            "Epoch 141: saving model to model/keypoint_classifier\\keypoint_classifier.hdf5\n",
            "60/60 [==============================] - 0s 3ms/step - loss: 0.5031 - accuracy: 0.8136 - val_loss: 0.2053 - val_accuracy: 0.9379\n",
            "Epoch 142/1000\n",
            "47/60 [======================>.......] - ETA: 0s - loss: 0.4990 - accuracy: 0.8167\n",
            "Epoch 142: saving model to model/keypoint_classifier\\keypoint_classifier.hdf5\n",
            "60/60 [==============================] - 0s 4ms/step - loss: 0.5019 - accuracy: 0.8163 - val_loss: 0.2089 - val_accuracy: 0.9439\n",
            "Epoch 143/1000\n",
            "45/60 [=====================>........] - ETA: 0s - loss: 0.5076 - accuracy: 0.8082\n",
            "Epoch 143: saving model to model/keypoint_classifier\\keypoint_classifier.hdf5\n",
            "60/60 [==============================] - 0s 3ms/step - loss: 0.4993 - accuracy: 0.8124 - val_loss: 0.2093 - val_accuracy: 0.9407\n",
            "Epoch 144/1000\n",
            "51/60 [========================>.....] - ETA: 0s - loss: 0.5111 - accuracy: 0.8081\n",
            "Epoch 144: saving model to model/keypoint_classifier\\keypoint_classifier.hdf5\n",
            "60/60 [==============================] - 0s 3ms/step - loss: 0.5046 - accuracy: 0.8114 - val_loss: 0.2109 - val_accuracy: 0.9454\n",
            "Epoch 145/1000\n",
            "44/60 [=====================>........] - ETA: 0s - loss: 0.4948 - accuracy: 0.8161\n",
            "Epoch 145: saving model to model/keypoint_classifier\\keypoint_classifier.hdf5\n",
            "60/60 [==============================] - 0s 4ms/step - loss: 0.4839 - accuracy: 0.8196 - val_loss: 0.2041 - val_accuracy: 0.9458\n",
            "Epoch 146/1000\n",
            "52/60 [=========================>....] - ETA: 0s - loss: 0.4901 - accuracy: 0.8176\n",
            "Epoch 146: saving model to model/keypoint_classifier\\keypoint_classifier.hdf5\n",
            "60/60 [==============================] - 0s 3ms/step - loss: 0.4893 - accuracy: 0.8194 - val_loss: 0.1990 - val_accuracy: 0.9431\n",
            "Epoch 147/1000\n",
            "50/60 [========================>.....] - ETA: 0s - loss: 0.4766 - accuracy: 0.8280\n",
            "Epoch 147: saving model to model/keypoint_classifier\\keypoint_classifier.hdf5\n",
            "60/60 [==============================] - 0s 3ms/step - loss: 0.4852 - accuracy: 0.8246 - val_loss: 0.2016 - val_accuracy: 0.9435\n",
            "Epoch 148/1000\n",
            "51/60 [========================>.....] - ETA: 0s - loss: 0.4875 - accuracy: 0.8197\n",
            "Epoch 148: saving model to model/keypoint_classifier\\keypoint_classifier.hdf5\n",
            "60/60 [==============================] - 0s 3ms/step - loss: 0.4851 - accuracy: 0.8206 - val_loss: 0.2076 - val_accuracy: 0.9419\n",
            "Epoch 149/1000\n",
            "53/60 [=========================>....] - ETA: 0s - loss: 0.4850 - accuracy: 0.8194\n",
            "Epoch 149: saving model to model/keypoint_classifier\\keypoint_classifier.hdf5\n",
            "60/60 [==============================] - 0s 3ms/step - loss: 0.4871 - accuracy: 0.8197 - val_loss: 0.2050 - val_accuracy: 0.9435\n",
            "Epoch 150/1000\n",
            "50/60 [========================>.....] - ETA: 0s - loss: 0.4881 - accuracy: 0.8208\n",
            "Epoch 150: saving model to model/keypoint_classifier\\keypoint_classifier.hdf5\n",
            "60/60 [==============================] - 0s 3ms/step - loss: 0.4917 - accuracy: 0.8194 - val_loss: 0.2056 - val_accuracy: 0.9439\n",
            "Epoch 151/1000\n",
            "48/60 [=======================>......] - ETA: 0s - loss: 0.4811 - accuracy: 0.8203\n",
            "Epoch 151: saving model to model/keypoint_classifier\\keypoint_classifier.hdf5\n",
            "60/60 [==============================] - 0s 3ms/step - loss: 0.4818 - accuracy: 0.8180 - val_loss: 0.2058 - val_accuracy: 0.9466\n",
            "Epoch 152/1000\n",
            "51/60 [========================>.....] - ETA: 0s - loss: 0.4820 - accuracy: 0.8238\n",
            "Epoch 152: saving model to model/keypoint_classifier\\keypoint_classifier.hdf5\n",
            "60/60 [==============================] - 0s 3ms/step - loss: 0.4790 - accuracy: 0.8247 - val_loss: 0.2024 - val_accuracy: 0.9442\n",
            "Epoch 153/1000\n",
            "54/60 [==========================>...] - ETA: 0s - loss: 0.5075 - accuracy: 0.8139\n",
            "Epoch 153: saving model to model/keypoint_classifier\\keypoint_classifier.hdf5\n",
            "60/60 [==============================] - 0s 3ms/step - loss: 0.5070 - accuracy: 0.8134 - val_loss: 0.2060 - val_accuracy: 0.9427\n",
            "Epoch 154/1000\n",
            "55/60 [==========================>...] - ETA: 0s - loss: 0.4866 - accuracy: 0.8168\n",
            "Epoch 154: saving model to model/keypoint_classifier\\keypoint_classifier.hdf5\n",
            "60/60 [==============================] - 0s 3ms/step - loss: 0.4832 - accuracy: 0.8185 - val_loss: 0.2021 - val_accuracy: 0.9439\n",
            "Epoch 155/1000\n",
            "50/60 [========================>.....] - ETA: 0s - loss: 0.4945 - accuracy: 0.8150\n",
            "Epoch 155: saving model to model/keypoint_classifier\\keypoint_classifier.hdf5\n",
            "60/60 [==============================] - 0s 3ms/step - loss: 0.4880 - accuracy: 0.8156 - val_loss: 0.2014 - val_accuracy: 0.9478\n",
            "Epoch 156/1000\n",
            "42/60 [====================>.........] - ETA: 0s - loss: 0.4866 - accuracy: 0.8194\n",
            "Epoch 156: saving model to model/keypoint_classifier\\keypoint_classifier.hdf5\n",
            "60/60 [==============================] - 0s 3ms/step - loss: 0.4895 - accuracy: 0.8171 - val_loss: 0.2066 - val_accuracy: 0.9454\n",
            "Epoch 157/1000\n",
            "50/60 [========================>.....] - ETA: 0s - loss: 0.4962 - accuracy: 0.8117\n",
            "Epoch 157: saving model to model/keypoint_classifier\\keypoint_classifier.hdf5\n",
            "60/60 [==============================] - 0s 4ms/step - loss: 0.4942 - accuracy: 0.8120 - val_loss: 0.2094 - val_accuracy: 0.9383\n",
            "Epoch 158/1000\n",
            "55/60 [==========================>...] - ETA: 0s - loss: 0.4892 - accuracy: 0.8161\n",
            "Epoch 158: saving model to model/keypoint_classifier\\keypoint_classifier.hdf5\n",
            "60/60 [==============================] - 0s 4ms/step - loss: 0.4916 - accuracy: 0.8152 - val_loss: 0.2076 - val_accuracy: 0.9391\n",
            "Epoch 159/1000\n",
            "45/60 [=====================>........] - ETA: 0s - loss: 0.4855 - accuracy: 0.8146\n",
            "Epoch 159: saving model to model/keypoint_classifier\\keypoint_classifier.hdf5\n",
            "60/60 [==============================] - 0s 4ms/step - loss: 0.4858 - accuracy: 0.8153 - val_loss: 0.2056 - val_accuracy: 0.9482\n",
            "Epoch 160/1000\n",
            "55/60 [==========================>...] - ETA: 0s - loss: 0.4682 - accuracy: 0.8239\n",
            "Epoch 160: saving model to model/keypoint_classifier\\keypoint_classifier.hdf5\n",
            "60/60 [==============================] - 0s 3ms/step - loss: 0.4700 - accuracy: 0.8236 - val_loss: 0.2061 - val_accuracy: 0.9446\n",
            "Epoch 161/1000\n",
            "54/60 [==========================>...] - ETA: 0s - loss: 0.4931 - accuracy: 0.8194\n",
            "Epoch 161: saving model to model/keypoint_classifier\\keypoint_classifier.hdf5\n",
            "60/60 [==============================] - 0s 3ms/step - loss: 0.4943 - accuracy: 0.8194 - val_loss: 0.2097 - val_accuracy: 0.9431\n",
            "Epoch 162/1000\n",
            "54/60 [==========================>...] - ETA: 0s - loss: 0.4797 - accuracy: 0.8249\n",
            "Epoch 162: saving model to model/keypoint_classifier\\keypoint_classifier.hdf5\n",
            "60/60 [==============================] - 0s 3ms/step - loss: 0.4783 - accuracy: 0.8244 - val_loss: 0.2072 - val_accuracy: 0.9442\n",
            "Epoch 163/1000\n",
            "48/60 [=======================>......] - ETA: 0s - loss: 0.4729 - accuracy: 0.8216\n",
            "Epoch 163: saving model to model/keypoint_classifier\\keypoint_classifier.hdf5\n",
            "60/60 [==============================] - 0s 3ms/step - loss: 0.4791 - accuracy: 0.8205 - val_loss: 0.2069 - val_accuracy: 0.9454\n",
            "Epoch 164/1000\n",
            "52/60 [=========================>....] - ETA: 0s - loss: 0.4735 - accuracy: 0.8260\n",
            "Epoch 164: saving model to model/keypoint_classifier\\keypoint_classifier.hdf5\n",
            "60/60 [==============================] - 0s 3ms/step - loss: 0.4705 - accuracy: 0.8259 - val_loss: 0.2059 - val_accuracy: 0.9439\n",
            "Epoch 165/1000\n",
            "52/60 [=========================>....] - ETA: 0s - loss: 0.4843 - accuracy: 0.8176\n",
            "Epoch 165: saving model to model/keypoint_classifier\\keypoint_classifier.hdf5\n",
            "60/60 [==============================] - 0s 3ms/step - loss: 0.4891 - accuracy: 0.8163 - val_loss: 0.2057 - val_accuracy: 0.9403\n",
            "Epoch 166/1000\n",
            "50/60 [========================>.....] - ETA: 0s - loss: 0.4840 - accuracy: 0.8206\n",
            "Epoch 166: saving model to model/keypoint_classifier\\keypoint_classifier.hdf5\n",
            "60/60 [==============================] - 0s 3ms/step - loss: 0.4804 - accuracy: 0.8218 - val_loss: 0.2027 - val_accuracy: 0.9442\n",
            "Epoch 166: early stopping\n"
          ]
        },
        {
          "data": {
            "text/plain": [
              "<keras.src.callbacks.History at 0x25e2a7e1ba0>"
            ]
          },
          "execution_count": 22,
          "metadata": {},
          "output_type": "execute_result"
        }
      ],
      "source": [
        "model.fit(\n",
        "    X_train,\n",
        "    y_train,\n",
        "    epochs=1000,\n",
        "    batch_size=128,\n",
        "    validation_data=(X_test, y_test),\n",
        "    callbacks=[cp_callback, es_callback]\n",
        ")"
      ]
    },
    {
      "cell_type": "code",
      "execution_count": 23,
      "metadata": {
        "colab": {
          "base_uri": "https://localhost:8080/"
        },
        "id": "pxvb2Y299hE3",
        "outputId": "59eb3185-2e37-4b9e-bc9d-ab1b8ac29b7f"
      },
      "outputs": [
        {
          "name": "stdout",
          "output_type": "stream",
          "text": [
            "20/20 [==============================] - 0s 2ms/step - loss: 0.2027 - accuracy: 0.9442\n"
          ]
        }
      ],
      "source": [
        "# Model evaluation\n",
        "val_loss, val_acc = model.evaluate(X_test, y_test, batch_size=128)"
      ]
    },
    {
      "cell_type": "code",
      "execution_count": 24,
      "metadata": {
        "id": "RBkmDeUW9hE4"
      },
      "outputs": [],
      "source": [
        "# Loading the saved model\n",
        "model = tf.keras.models.load_model(model_save_path)"
      ]
    },
    {
      "cell_type": "code",
      "execution_count": 25,
      "metadata": {
        "colab": {
          "base_uri": "https://localhost:8080/"
        },
        "id": "tFz9Tb0I9hE4",
        "outputId": "1c3b3528-54ae-4ee2-ab04-77429211cbef"
      },
      "outputs": [
        {
          "name": "stdout",
          "output_type": "stream",
          "text": [
            "1/1 [==============================] - 0s 89ms/step\n",
            "[1.4896449e-02 1.3238837e-07 3.3927979e-08 8.7054982e-04 1.4542604e-03\n",
            " 4.3618158e-05 9.8273498e-01]\n",
            "6\n"
          ]
        }
      ],
      "source": [
        "# Inference test\n",
        "predict_result = model.predict(np.array([X_test[0]]))\n",
        "print(np.squeeze(predict_result))\n",
        "print(np.argmax(np.squeeze(predict_result)))"
      ]
    },
    {
      "cell_type": "markdown",
      "metadata": {
        "id": "S3U4yNWx9hE4"
      },
      "source": [
        "# Confusion matrix"
      ]
    },
    {
      "cell_type": "code",
      "execution_count": 34,
      "metadata": {
        "colab": {
          "base_uri": "https://localhost:8080/",
          "height": 582
        },
        "id": "AP1V6SCk9hE5",
        "outputId": "08e41a80-7a4a-4619-8125-ecc371368d19"
      },
      "outputs": [
        {
          "name": "stdout",
          "output_type": "stream",
          "text": [
            "80/80 [==============================] - 0s 1ms/step\n"
          ]
        },
        {
          "data": {
            "image/png": "[encoded data removed]",
            "text/plain": [
              "<Figure size 700x600 with 2 Axes>"
            ]
          },
          "metadata": {},
          "output_type": "display_data"
        },
        {
          "name": "stdout",
          "output_type": "stream",
          "text": [
            "Classification Report\n",
            "              precision    recall  f1-score   support\n",
            "\n",
            "           0       0.97      0.85      0.90       401\n",
            "           1       0.96      0.97      0.96       266\n",
            "           2       1.00      0.99      1.00       281\n",
            "           3       0.98      0.96      0.97       418\n",
            "           4       0.89      0.95      0.92       412\n",
            "           5       1.00      0.96      0.98       383\n",
            "           6       0.85      0.95      0.90       368\n",
            "\n",
            "    accuracy                           0.94      2529\n",
            "   macro avg       0.95      0.95      0.95      2529\n",
            "weighted avg       0.95      0.94      0.94      2529\n",
            "\n"
          ]
        }
      ],
      "source": [
        "import pandas as pd\n",
        "import seaborn as sns\n",
        "import matplotlib.pyplot as plt\n",
        "from sklearn.metrics import confusion_matrix, classification_report\n",
        "\n",
        "def print_confusion_matrix(y_true, y_pred, report=True):\n",
        "    labels = sorted(list(set(y_true)))\n",
        "    cmx_data = confusion_matrix(y_true, y_pred, labels=labels)\n",
        "    \n",
        "    df_cmx = pd.DataFrame(cmx_data, index=labels, columns=labels)\n",
        " \n",
        "    fig, ax = plt.subplots(figsize=(7, 6))\n",
        "    sns.heatmap(df_cmx, annot=True, fmt='g' ,square=False)\n",
        "    ax.set_ylim(len(set(y_true)), 0)\n",
        "    plt.show()\n",
        "    \n",
        "    if report:\n",
        "        print('Classification Report')\n",
        "        print(classification_report(y_test, y_pred))\n",
        "\n",
        "Y_pred = model.predict(X_test)\n",
        "y_pred = np.argmax(Y_pred, axis=1)\n",
        "\n",
        "print_confusion_matrix(y_test, y_pred)"
      ]
    },
    {
      "cell_type": "markdown",
      "metadata": {
        "id": "FNP6aqzc9hE5"
      },
      "source": [
        "# Convert to model for Tensorflow-Lite"
      ]
    },
    {
      "cell_type": "code",
      "execution_count": 27,
      "metadata": {
        "id": "ODjnYyld9hE6"
      },
      "outputs": [],
      "source": [
        "# Save as a model dedicated to inference\n",
        "model.save(model_save_path, include_optimizer=False)"
      ]
    },
    {
      "cell_type": "code",
      "execution_count": 28,
      "metadata": {
        "colab": {
          "base_uri": "https://localhost:8080/"
        },
        "id": "zRfuK8Y59hE6",
        "outputId": "a4ca585c-b5d5-4244-8291-8674063209bb"
      },
      "outputs": [
        {
          "name": "stdout",
          "output_type": "stream",
          "text": [
            "INFO:tensorflow:Assets written to: C:\\Users\\97798\\AppData\\Local\\Temp\\tmpwmr6w0xm\\assets\n"
          ]
        },
        {
          "name": "stderr",
          "output_type": "stream",
          "text": [
            "INFO:tensorflow:Assets written to: C:\\Users\\97798\\AppData\\Local\\Temp\\tmpwmr6w0xm\\assets\n"
          ]
        },
        {
          "data": {
            "text/plain": [
              "6704"
            ]
          },
          "execution_count": 28,
          "metadata": {},
          "output_type": "execute_result"
        }
      ],
      "source": [
        "# Transform model (quantization)\n",
        "\n",
        "converter = tf.lite.TFLiteConverter.from_keras_model(model)\n",
        "converter.optimizations = [tf.lite.Optimize.DEFAULT]\n",
        "tflite_quantized_model = converter.convert()\n",
        "\n",
        "open(tflite_save_path, 'wb').write(tflite_quantized_model)"
      ]
    },
    {
      "cell_type": "markdown",
      "metadata": {
        "id": "CHBPBXdx9hE6"
      },
      "source": [
        "# Inference test"
      ]
    },
    {
      "cell_type": "code",
      "execution_count": 29,
      "metadata": {
        "id": "mGAzLocO9hE7"
      },
      "outputs": [],
      "source": [
        "interpreter = tf.lite.Interpreter(model_path=tflite_save_path)\n",
        "interpreter.allocate_tensors()"
      ]
    },
    {
      "cell_type": "code",
      "execution_count": 30,
      "metadata": {
        "id": "oQuDK8YS9hE7"
      },
      "outputs": [],
      "source": [
        "# Get I / O tensor\n",
        "input_details = interpreter.get_input_details()\n",
        "output_details = interpreter.get_output_details()"
      ]
    },
    {
      "cell_type": "code",
      "execution_count": 31,
      "metadata": {
        "id": "2_ixAf_l9hE7"
      },
      "outputs": [],
      "source": [
        "interpreter.set_tensor(input_details[0]['index'], np.array([X_test[0]]))"
      ]
    },
    {
      "cell_type": "code",
      "execution_count": 32,
      "metadata": {
        "colab": {
          "base_uri": "https://localhost:8080/"
        },
        "id": "s4FoAnuc9hE7",
        "outputId": "91f18257-8d8b-4ef3-c558-e9b5f94fabbf",
        "scrolled": true
      },
      "outputs": [
        {
          "name": "stdout",
          "output_type": "stream",
          "text": [
            "CPU times: total: 0 ns\n",
            "Wall time: 1 ms\n"
          ]
        }
      ],
      "source": [
        "%%time\n",
        "# Inference implementation\n",
        "interpreter.invoke()\n",
        "tflite_results = interpreter.get_tensor(output_details[0]['index'])"
      ]
    },
    {
      "cell_type": "code",
      "execution_count": 33,
      "metadata": {
        "colab": {
          "base_uri": "https://localhost:8080/"
        },
        "id": "vONjp19J9hE8",
        "outputId": "77205e24-fd00-42c4-f7b6-e06e527c2cba"
      },
      "outputs": [
        {
          "name": "stdout",
          "output_type": "stream",
          "text": [
            "[1.4896451e-02 1.3238835e-07 3.3927979e-08 8.7055034e-04 1.4542615e-03\n",
            " 4.3618213e-05 9.8273510e-01]\n",
            "6\n"
          ]
        }
      ],
      "source": [
        "print(np.squeeze(tflite_results))\n",
        "print(np.argmax(np.squeeze(tflite_results)))"
      ]
    }
  ],
  "metadata": {
    "accelerator": "GPU",
    "colab": {
      "collapsed_sections": [],
      "name": "keypoint_classification_EN.ipynb",
      "provenance": [],
      "toc_visible": true
    },
    "kernelspec": {
      "display_name": "Python 3",
      "language": "python",
      "name": "python3"
    },
    "language_info": {
      "codemirror_mode": {
        "name": "ipython",
        "version": 3
      },
      "file_extension": ".py",
      "mimetype": "text/x-python",
      "name": "python",
      "nbconvert_exporter": "python",
      "pygments_lexer": "ipython3",
      "version": "3.10.11"
    }
  },
  "nbformat": 4,
  "nbformat_minor": 0
}
